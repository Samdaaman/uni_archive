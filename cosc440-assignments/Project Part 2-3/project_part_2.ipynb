{
 "cells": [
  {
   "cell_type": "markdown",
   "metadata": {
    "id": "6gY_Ma-ke0eY"
   },
   "source": [
    "# COSC440 Project Part 2: Building a Convolutional Autoencoder"
   ]
  },
  {
   "cell_type": "markdown",
   "metadata": {
    "id": "4xeaFoKZe0ea"
   },
   "source": [
    "In the first part of the project, we will be introducing and getting familiar with the concept of convolutional autoencoders. In the second part we will apply this model to a domain problem data set. In the final part you will extend the model to address a subproblem in the area of your choice."
   ]
  },
  {
   "cell_type": "markdown",
   "metadata": {
    "id": "3HJoXp45e0eb"
   },
   "source": [
    "## Introduction\n",
    "Autoencoders are really cool. They use this architecture of encoder + decoder to learn data representation in an unsupervised manner. Sounds complicated? Let's break it down.\n",
    "\n",
    "\n",
    "<!-- ![Autoencoders](https://drive.google.com/uc?export=view&id=18iU9_yZfqs2QlTPbaibzkMtdIekLuPj2) -->\n",
    "\n",
    "As we can see, the autoencoder is divided roughly in two parts: the encoder that encodes the input to a \"code\", or internal representation, that is reduced in dimensions, and the decoder that decodes the \"code\" to an output that is the same dimensions as the input.\n",
    "\n",
    "The autoencoder tries to learn a function h(x)≈x. In other words, it is trying to learn an approximation to the identity function, so as to output x'  that is similar to x. This may sound like a pretty trivial task, why not just use the identity function? Well, it's impossible to find a perfect representation of the identity function since we reduced dimensionality of the input into the code during the encoding part, and try to \"reconstruct\" the original image using only the dimensionally reduced code. E.x. Given an input of a 10x10 image, and a hidden size of 50, the encoder is forced to learn a compressed representation of the image (from 100 units to 50 units). This encoding is almost always lossy, but the point is that we train the encoder to recognize important structures in the input and throw away the unimportant noise.\n",
    "\n",
    "### In this part, we will be building a denoising autoencoder. The input of the autoencoder will be a noisy version of our training data and we will train the model to predict the noise free version. "
   ]
  },
  {
   "cell_type": "markdown",
   "metadata": {
    "id": "BAcauSgEe0ec"
   },
   "source": [
    "## Deconvolution (Transposed-Convolution)\n",
    "Conceptually, deconvolution reverses the effects of convolution. Convolution with a stride of larger than 1 reduces the size of the input, while deconvolution can be described as a \"fractional stride\" convolution, it upscales the size of the input. Here's a visualisation.\n",
    "\n",
    "#### Convolution with stride = 2 *going from bigger to smaller*:\n",
    "<!-- ![convolution.gif](https://drive.google.com/uc?export=view&id=1TjSgMinNQ629TrdEmcVjKuwWZ9MGMfg7) -->\n",
    "\n",
    "#### Deconvolution (convolution with fractional stride) *going from smaller to bigger*:\n",
    "<!-- ![deconvolution.gif](https://drive.google.com/uc?export=view&id=1opzIaiShA5_nLT5Y5Kh_GqPT9IlVeQF5) -->\n",
    "\n",
    "As we can see, deconvolution upscales the input. This is important for our decoder as its job is to upscale the encoded and compressed internal representation to its original size.\n",
    "Concretely, this is how we implement deconvolution in tensorflow:"
   ]
  },
  {
   "cell_type": "markdown",
   "metadata": {
    "id": "FEvAON8ye0ef"
   },
   "source": [
    "``` Python\n",
    "tf.nn.conv2d_transpose(\n",
    "    value, # input tensor: A 4-D Tensor of type float and shape [batch, height, width, in_channels]\n",
    "    filter, # filter tensor: A 4-D Tensor with shape [height, width, output_channels, in_channels]\n",
    "    output_shape, # A 1-D Tensor representing the output shape of the deconvolution op.\n",
    "    strides, # A list of ints. The stride of the sliding window for each dimension of the input tensor.\n",
    "    padding='SAME'\n",
    ")\n",
    "```"
   ]
  },
  {
   "cell_type": "markdown",
   "metadata": {
    "id": "O9fO-Ccn3wRF"
   },
   "source": [
    "If set up correctly, you should see \"GPU Available: True\" in the output."
   ]
  },
  {
   "cell_type": "markdown",
   "metadata": {
    "id": "dWuS-lvYe0fU"
   },
   "source": [
    "## Architecture Definition\n",
    "We want to construct the following architecture:\n",
    "\n",
    "(Due to the limitations of the rendering engine I'm using, there is a small inaccuracy: the connections in the decoder *{the red prisms}* should be upscaling, not downscaling like in the encoder. - original creator of lab)\n",
    "\n",
    "Shapes:\n",
    "\n",
    "Layer | Shape of Output\n",
    "--- | ---\n",
    "Input | (batch_size, 28, 28, 1)\n",
    "encoder_conv_1    | (batch_size, 14, 14, 10)\n",
    "encoder_conv_2    | (batch_size, 7, 7, 10)  \n",
    "encoder_conv_3    | (batch_size, 4, 4, 10)  \n",
    "decoder_deconv_1  | (batch_size, 7, 7, 10)  \n",
    "decoder_deconv_2  | (batch_size, 14, 14, 10)\n",
    "decoder_deconv_3  | (batch_size, 28, 28, 1)\n",
    "\n",
    "<!-- ![Architecture](https://drive.google.com/uc?export=view&id=1GaQ-xZ0lmU8iNTm1IVPo60NyKUAyB9bx) -->"
   ]
  },
  {
   "cell_type": "markdown",
   "metadata": {
    "id": "E9K0ELkhe0fF"
   },
   "source": [
    "## Setup\n",
    "\n",
    "Enabling the GPU:\n",
    "\n",
    "- Navigate to Edit→Notebook Settings\n",
    "- select GPU from the Hardware Accelerator drop-down"
   ]
  },
  {
   "cell_type": "code",
   "execution_count": 1,
   "metadata": {},
   "outputs": [
    {
     "name": "stderr",
     "output_type": "stream",
     "text": [
      "2021-10-19 18:24:16.341953: W tensorflow/stream_executor/platform/default/dso_loader.cc:64] Could not load dynamic library 'libcudart.so.11.0'; dlerror: libcudart.so.11.0: cannot open shared object file: No such file or directory\n",
      "2021-10-19 18:24:16.342003: I tensorflow/stream_executor/cuda/cudart_stub.cc:29] Ignore above cudart dlerror if you do not have a GPU set up on your machine.\n"
     ]
    },
    {
     "name": "stdout",
     "output_type": "stream",
     "text": [
      "2.6.0\n",
      "GPU Available:  []\n"
     ]
    },
    {
     "name": "stderr",
     "output_type": "stream",
     "text": [
      "2021-10-19 18:24:19.725626: W tensorflow/stream_executor/platform/default/dso_loader.cc:64] Could not load dynamic library 'libcuda.so.1'; dlerror: libcuda.so.1: cannot open shared object file: No such file or directory\n",
      "2021-10-19 18:24:19.725676: W tensorflow/stream_executor/cuda/cuda_driver.cc:269] failed call to cuInit: UNKNOWN ERROR (303)\n",
      "2021-10-19 18:24:19.725729: I tensorflow/stream_executor/cuda/cuda_diagnostics.cc:156] kernel driver does not appear to be running on this host (mint): /proc/driver/nvidia/version does not exist\n"
     ]
    }
   ],
   "source": [
    "# This makes sure that we are using Tensorflow 2\n",
    "try:\n",
    "    # Note: %tensorflow_version only exists in Google Colab\n",
    "    %tensorflow_version 2.x\n",
    "except Exception:\n",
    "    pass\n",
    "\n",
    "import tensorflow as tf\n",
    "import numpy as np\n",
    "\n",
    "print(tf.__version__)\n",
    "print(\"GPU Available: \", tf.config.list_physical_devices('GPU'))"
   ]
  },
  {
   "cell_type": "markdown",
   "metadata": {
    "id": "7XNWonQwEX3S"
   },
   "source": [
    "## Classes\n",
    "### **Noise**\n",
    "In order to test our autoencoder, we need to add some noise to our MNIST data points. The goal for the autoencoder is to learn the important underlying features (the numbers) of the data and to ignore the extra noise. \n",
    "\n",
    "### **Encoder**\n",
    "Let's first build the encoding portion of our autoencoder. We're going to directly use Keras layers to help us out by subclassing the Layer class. See this for more information on subclassing Layers: https://www.tensorflow.org/guide/keras/custom_layers_and_models\n",
    "\n",
    "This should have 3 convolution layers. The layers should be initialized with random normal with standard deviation of 0.1. Also, please use an activation layer of leaky_relu with alpha=0.2. Use a kernel size of 3 and padding of same. Think about what the filter count and stride should be by looking at the output shapes of the architecture.\n",
    "\n",
    "### **Decoder**\n",
    "Now let's build the decoder portion of our autoencoder.\n",
    "\n",
    "This should have 3 deconvolution layers. For the first deconvolution layer please use tf.nn.conv2d_transpose to implement the deconvolution. The other two may be keras layers (Conv2DTranspose). Use the same kernel / activation /initialization as the encoder.\n",
    "\n",
    "### **AutoEncoder**\n",
    "Our loss equation is:\n",
    "$$\\sum (y - x)^2$$\n",
    "\n",
    "\n",
    "y: the encoded image \n",
    "\n",
    "x: the original corrupted image (note: **NOT** the original uncorrupted image -- in general it is acceptable to train against the uncorrupted image but that makes an assumption we do not have in the second part of the project, namely that it requires clean images and that the systemic/instrument noise in real data matches the simulated noise function of the training otherwise the trained network risks injecting bias towards the trained noise pattern)"
   ]
  },
  {
   "cell_type": "code",
   "execution_count": 2,
   "metadata": {
    "id": "gxVP3tDatlvQ"
   },
   "outputs": [],
   "source": [
    "class Noise:\n",
    "    @staticmethod\n",
    "    def no_noise(x):\n",
    "        \"\"\"This function adds no noise, we use this as a way of comparing the autoencoder when there's no input noise\"\"\"\n",
    "        x = tf.dtypes.cast(x, tf.float32)\n",
    "        return x\n",
    "\n",
    "    @staticmethod\n",
    "    def random_noise(x):\n",
    "        \"\"\"This function should add a random uniform tensor of the shape of x between -0.3 to 0.3 to x and then clip it between 0 and 1.\"\"\"\n",
    "        x = tf.dtypes.cast(x, tf.float32)\n",
    "        noised = x + tf.random.uniform(x.shape, minval=-0.3, maxval=0.3)\n",
    "        return tf.clip_by_value(noised, 0, 1)\n",
    "\n",
    "    @staticmethod\n",
    "    def random_scale(x):\n",
    "        \"\"\"This function should multiply a random uniform tensor of the shape of x between 0 to 2.0 to x and then clip it between 0 and 1.\"\"\"\n",
    "        x_float = tf.dtypes.cast(x, tf.float32)\n",
    "        noised = tf.math.multiply(x_float, tf.random.uniform(x_float.shape, minval=0.0, maxval=2.0))\n",
    "        return tf.clip_by_value(noised, 0, 1)\n",
    "\n",
    "\n",
    "class Encoder(tf.keras.layers.Layer):\n",
    "    def __init__(self):\n",
    "       super(Encoder, self).__init__()\n",
    "       initializer = tf.keras.initializers.RandomNormal(mean=0, stddev=0.1)\n",
    "       self.encoder_conv_1 = tf.keras.layers.Conv2D(10, 3, (2, 2), 'same', kernel_initializer=initializer, bias_initializer=initializer)\n",
    "       self.encoder_conv_2 = tf.keras.layers.Conv2D(10, 3, (2, 2), 'same', kernel_initializer=initializer, bias_initializer=initializer)\n",
    "       self.encoder_conv_3 = tf.keras.layers.Conv2D(10, 3, (2, 2), 'same', kernel_initializer=initializer, bias_initializer=initializer)\n",
    "    \n",
    "    @tf.function\n",
    "    def call(self, images):\n",
    "        for layer in [self.encoder_conv_1, self.encoder_conv_2, self.encoder_conv_3]:\n",
    "            images = layer(images)\n",
    "            images = tf.nn.leaky_relu(images, 0.2)\n",
    "        return images\n",
    "\n",
    "\n",
    "class Decoder(tf.keras.layers.Layer):\n",
    "    def __init__(self):\n",
    "        super(Decoder, self).__init__()\n",
    "        initializer = tf.keras.initializers.RandomNormal(mean=0, stddev=0.1)\n",
    "        \n",
    "        self.L1_W = tf.Variable(tf.random.normal([4, 4, 10, 10], dtype=tf.float32, stddev=0.1))\n",
    "        self.L1_b = tf.Variable(tf.random.truncated_normal([1, 7, 7, 10], dtype=tf.float32, stddev=0.1))\n",
    "\n",
    "        self.decoder_deconv_2 = tf.keras.layers.Conv2DTranspose(10, 3, (2, 2), 'same', kernel_initializer=initializer, bias_initializer=initializer)\n",
    "        self.decoder_deconv_3 = tf.keras.layers.Conv2DTranspose(1, 3, (2, 2), 'same', kernel_initializer=initializer, bias_initializer=initializer)\n",
    "        \n",
    "    @tf.function\n",
    "    def call(self, encoder_output):\n",
    "        output_shape = (encoder_output.shape[0], 7, 7, 10)\n",
    "\n",
    "        deconv_1 = tf.nn.conv2d_transpose(encoder_output, self.L1_W, output_shape, 2)\n",
    "        deconv_1_with_bias = tf.add(deconv_1, self.L1_b)\n",
    "        deconv_1_activated = tf.nn.leaky_relu(deconv_1_with_bias, alpha=0.2)\n",
    "        \n",
    "        deconv_2 = self.decoder_deconv_2(deconv_1_activated)\n",
    "        deconv_2_activated = tf.nn.leaky_relu(deconv_2, alpha=0.2)\n",
    "\n",
    "        deconv_3 = self.decoder_deconv_3(deconv_2_activated)\n",
    "        deconv_3_activated = tf.nn.leaky_relu(deconv_3, alpha=0.2)\n",
    "\n",
    "        return deconv_3_activated\n",
    "\n",
    "\n",
    "class AutoEncoder(tf.keras.Model):\n",
    "    def __init__(self):\n",
    "        super(AutoEncoder, self).__init__()\n",
    "        self.encoder = Encoder()\n",
    "        self.decoder = Decoder()\n",
    "    \n",
    "    @tf.function\n",
    "    def call(self, images):\n",
    "        z = self.encoder.call(images)\n",
    "        return self.decoder.call(z)\n",
    "    \n",
    "    @tf.function\n",
    "    def loss_function(self, encoded, originals):\n",
    "        encoded = tf.dtypes.cast(encoded, tf.float32)\n",
    "        originals = tf.dtypes.cast(originals, tf.float32)\n",
    "        return tf.math.reduce_sum(tf.math.square(encoded - originals))\n",
    "\n",
    "\n",
    "    def train(self, optimizer, images, noise_function):\n",
    "        \"\"\"Train loop for training\"\"\"\n",
    "        corrupted = tf.reshape(noise_function(images), [-1, 28, 28, 1])\n",
    "    \n",
    "        with tf.GradientTape() as tape:\n",
    "            encoded = self.call(corrupted)\n",
    "            loss = self.loss_function(encoded, corrupted)\n",
    "        gradients = tape.gradient(loss, self.trainable_variables)\n",
    "        optimizer.apply_gradients(zip(gradients, self.trainable_variables))\n",
    "\n",
    "    def total_loss(self, images, noise_function):\n",
    "        \"\"\"This function that calculates the total loss over the entire data set, we use this to track the loss over each epoch\"\"\"\n",
    "        sum_loss = 0\n",
    "        corrupted = tf.reshape(noise_function(images), [-1, 28, 28, 1])\n",
    "        predictions = self.call(corrupted)\n",
    "        sum_loss += model.loss_function(predictions, corrupted).numpy()\n",
    "        return sum_loss"
   ]
  },
  {
   "cell_type": "code",
   "execution_count": 3,
   "metadata": {
    "colab": {
     "base_uri": "https://localhost:8080/",
     "height": 1000
    },
    "executionInfo": {
     "elapsed": 130648,
     "status": "ok",
     "timestamp": 1567440661824,
     "user": {
      "displayName": "James Okun",
      "photoUrl": "https://lh3.googleusercontent.com/a-/AAuE7mAJCZ-bHsPI7Z1U9tli3hITY1oVMB_8BTsTimQ3=s64",
      "userId": "06434945633633315960"
     },
     "user_tz": 240
    },
    "id": "GPBJIxfsq1fG",
    "outputId": "69d49d5a-caee-4a5e-d7aa-84a5265b0d1a",
    "scrolled": false
   },
   "outputs": [
    {
     "name": "stdout",
     "output_type": "stream",
     "text": [
      "Showing autoencoder for noise function: <function Noise.no_noise at 0x7f4551c244c0>\n"
     ]
    },
    {
     "name": "stderr",
     "output_type": "stream",
     "text": [
      "2021-10-19 18:24:29.097222: I tensorflow/core/platform/cpu_feature_guard.cc:142] This TensorFlow binary is optimized with oneAPI Deep Neural Network Library (oneDNN) to use the following CPU instructions in performance-critical operations:  AVX2 FMA\n",
      "To enable them in other operations, rebuild TensorFlow with the appropriate compiler flags.\n",
      "2021-10-19 18:24:29.920768: I tensorflow/compiler/mlir/mlir_graph_optimization_pass.cc:185] None of the MLIR Optimization Passes are enabled (registered 2)\n"
     ]
    },
    {
     "ename": "KeyboardInterrupt",
     "evalue": "",
     "output_type": "error",
     "traceback": [
      "\u001b[0;31m---------------------------------------------------------------------------\u001b[0m",
      "\u001b[0;31mKeyboardInterrupt\u001b[0m                         Traceback (most recent call last)",
      "\u001b[0;32m/tmp/ipykernel_7343/3074572477.py\u001b[0m in \u001b[0;36m<module>\u001b[0;34m\u001b[0m\n\u001b[1;32m     47\u001b[0m     \u001b[0;32mfor\u001b[0m \u001b[0mi\u001b[0m \u001b[0;32min\u001b[0m \u001b[0mrange\u001b[0m\u001b[0;34m(\u001b[0m\u001b[0mn_epochs\u001b[0m\u001b[0;34m)\u001b[0m\u001b[0;34m:\u001b[0m\u001b[0;34m\u001b[0m\u001b[0;34m\u001b[0m\u001b[0m\n\u001b[1;32m     48\u001b[0m         \u001b[0;32mfor\u001b[0m \u001b[0mj\u001b[0m \u001b[0;32min\u001b[0m \u001b[0mrange\u001b[0m\u001b[0;34m(\u001b[0m\u001b[0;36m0\u001b[0m\u001b[0;34m,\u001b[0m \u001b[0mlen\u001b[0m\u001b[0;34m(\u001b[0m\u001b[0mtrain_images\u001b[0m\u001b[0;34m)\u001b[0m\u001b[0;34m,\u001b[0m \u001b[0mbatch_size\u001b[0m\u001b[0;34m)\u001b[0m\u001b[0;34m:\u001b[0m\u001b[0;34m\u001b[0m\u001b[0;34m\u001b[0m\u001b[0m\n\u001b[0;32m---> 49\u001b[0;31m             model.train(\n\u001b[0m\u001b[1;32m     50\u001b[0m                 optimizer, train_images[j:j+batch_size], noise_function)\n\u001b[1;32m     51\u001b[0m \u001b[0;34m\u001b[0m\u001b[0m\n",
      "\u001b[0;32m/tmp/ipykernel_7343/3232007794.py\u001b[0m in \u001b[0;36mtrain\u001b[0;34m(self, optimizer, images, noise_function)\u001b[0m\n\u001b[1;32m     89\u001b[0m         \u001b[0;32mwith\u001b[0m \u001b[0mtf\u001b[0m\u001b[0;34m.\u001b[0m\u001b[0mGradientTape\u001b[0m\u001b[0;34m(\u001b[0m\u001b[0;34m)\u001b[0m \u001b[0;32mas\u001b[0m \u001b[0mtape\u001b[0m\u001b[0;34m:\u001b[0m\u001b[0;34m\u001b[0m\u001b[0;34m\u001b[0m\u001b[0m\n\u001b[1;32m     90\u001b[0m             \u001b[0mencoded\u001b[0m \u001b[0;34m=\u001b[0m \u001b[0mself\u001b[0m\u001b[0;34m.\u001b[0m\u001b[0mcall\u001b[0m\u001b[0;34m(\u001b[0m\u001b[0mcorrupted\u001b[0m\u001b[0;34m)\u001b[0m\u001b[0;34m\u001b[0m\u001b[0;34m\u001b[0m\u001b[0m\n\u001b[0;32m---> 91\u001b[0;31m             \u001b[0mloss\u001b[0m \u001b[0;34m=\u001b[0m \u001b[0mself\u001b[0m\u001b[0;34m.\u001b[0m\u001b[0mloss_function\u001b[0m\u001b[0;34m(\u001b[0m\u001b[0mencoded\u001b[0m\u001b[0;34m,\u001b[0m \u001b[0mcorrupted\u001b[0m\u001b[0;34m)\u001b[0m\u001b[0;34m\u001b[0m\u001b[0;34m\u001b[0m\u001b[0m\n\u001b[0m\u001b[1;32m     92\u001b[0m         \u001b[0mgradients\u001b[0m \u001b[0;34m=\u001b[0m \u001b[0mtape\u001b[0m\u001b[0;34m.\u001b[0m\u001b[0mgradient\u001b[0m\u001b[0;34m(\u001b[0m\u001b[0mloss\u001b[0m\u001b[0;34m,\u001b[0m \u001b[0mself\u001b[0m\u001b[0;34m.\u001b[0m\u001b[0mtrainable_variables\u001b[0m\u001b[0;34m)\u001b[0m\u001b[0;34m\u001b[0m\u001b[0;34m\u001b[0m\u001b[0m\n\u001b[1;32m     93\u001b[0m         \u001b[0moptimizer\u001b[0m\u001b[0;34m.\u001b[0m\u001b[0mapply_gradients\u001b[0m\u001b[0;34m(\u001b[0m\u001b[0mzip\u001b[0m\u001b[0;34m(\u001b[0m\u001b[0mgradients\u001b[0m\u001b[0;34m,\u001b[0m \u001b[0mself\u001b[0m\u001b[0;34m.\u001b[0m\u001b[0mtrainable_variables\u001b[0m\u001b[0;34m)\u001b[0m\u001b[0;34m)\u001b[0m\u001b[0;34m\u001b[0m\u001b[0;34m\u001b[0m\u001b[0m\n",
      "\u001b[0;32m/usr/local/lib/python3.8/dist-packages/tensorflow/python/eager/def_function.py\u001b[0m in \u001b[0;36m__call__\u001b[0;34m(self, *args, **kwds)\u001b[0m\n\u001b[1;32m    883\u001b[0m \u001b[0;34m\u001b[0m\u001b[0m\n\u001b[1;32m    884\u001b[0m       \u001b[0;32mwith\u001b[0m \u001b[0mOptionalXlaContext\u001b[0m\u001b[0;34m(\u001b[0m\u001b[0mself\u001b[0m\u001b[0;34m.\u001b[0m\u001b[0m_jit_compile\u001b[0m\u001b[0;34m)\u001b[0m\u001b[0;34m:\u001b[0m\u001b[0;34m\u001b[0m\u001b[0;34m\u001b[0m\u001b[0m\n\u001b[0;32m--> 885\u001b[0;31m         \u001b[0mresult\u001b[0m \u001b[0;34m=\u001b[0m \u001b[0mself\u001b[0m\u001b[0;34m.\u001b[0m\u001b[0m_call\u001b[0m\u001b[0;34m(\u001b[0m\u001b[0;34m*\u001b[0m\u001b[0margs\u001b[0m\u001b[0;34m,\u001b[0m \u001b[0;34m**\u001b[0m\u001b[0mkwds\u001b[0m\u001b[0;34m)\u001b[0m\u001b[0;34m\u001b[0m\u001b[0;34m\u001b[0m\u001b[0m\n\u001b[0m\u001b[1;32m    886\u001b[0m \u001b[0;34m\u001b[0m\u001b[0m\n\u001b[1;32m    887\u001b[0m       \u001b[0mnew_tracing_count\u001b[0m \u001b[0;34m=\u001b[0m \u001b[0mself\u001b[0m\u001b[0;34m.\u001b[0m\u001b[0mexperimental_get_tracing_count\u001b[0m\u001b[0;34m(\u001b[0m\u001b[0;34m)\u001b[0m\u001b[0;34m\u001b[0m\u001b[0;34m\u001b[0m\u001b[0m\n",
      "\u001b[0;32m/usr/local/lib/python3.8/dist-packages/tensorflow/python/eager/def_function.py\u001b[0m in \u001b[0;36m_call\u001b[0;34m(self, *args, **kwds)\u001b[0m\n\u001b[1;32m    922\u001b[0m       \u001b[0;31m# In this case we have not created variables on the first call. So we can\u001b[0m\u001b[0;34m\u001b[0m\u001b[0;34m\u001b[0m\u001b[0;34m\u001b[0m\u001b[0m\n\u001b[1;32m    923\u001b[0m       \u001b[0;31m# run the first trace but we should fail if variables are created.\u001b[0m\u001b[0;34m\u001b[0m\u001b[0;34m\u001b[0m\u001b[0;34m\u001b[0m\u001b[0m\n\u001b[0;32m--> 924\u001b[0;31m       \u001b[0mresults\u001b[0m \u001b[0;34m=\u001b[0m \u001b[0mself\u001b[0m\u001b[0;34m.\u001b[0m\u001b[0m_stateful_fn\u001b[0m\u001b[0;34m(\u001b[0m\u001b[0;34m*\u001b[0m\u001b[0margs\u001b[0m\u001b[0;34m,\u001b[0m \u001b[0;34m**\u001b[0m\u001b[0mkwds\u001b[0m\u001b[0;34m)\u001b[0m\u001b[0;34m\u001b[0m\u001b[0;34m\u001b[0m\u001b[0m\n\u001b[0m\u001b[1;32m    925\u001b[0m       \u001b[0;32mif\u001b[0m \u001b[0mself\u001b[0m\u001b[0;34m.\u001b[0m\u001b[0m_created_variables\u001b[0m \u001b[0;32mand\u001b[0m \u001b[0;32mnot\u001b[0m \u001b[0mALLOW_DYNAMIC_VARIABLE_CREATION\u001b[0m\u001b[0;34m:\u001b[0m\u001b[0;34m\u001b[0m\u001b[0;34m\u001b[0m\u001b[0m\n\u001b[1;32m    926\u001b[0m         raise ValueError(\"Creating variables on a non-first call to a function\"\n",
      "\u001b[0;32m/usr/local/lib/python3.8/dist-packages/tensorflow/python/eager/function.py\u001b[0m in \u001b[0;36m__call__\u001b[0;34m(self, *args, **kwargs)\u001b[0m\n\u001b[1;32m   3037\u001b[0m       (graph_function,\n\u001b[1;32m   3038\u001b[0m        filtered_flat_args) = self._maybe_define_function(args, kwargs)\n\u001b[0;32m-> 3039\u001b[0;31m     return graph_function._call_flat(\n\u001b[0m\u001b[1;32m   3040\u001b[0m         filtered_flat_args, captured_inputs=graph_function.captured_inputs)  # pylint: disable=protected-access\n\u001b[1;32m   3041\u001b[0m \u001b[0;34m\u001b[0m\u001b[0m\n",
      "\u001b[0;32m/usr/local/lib/python3.8/dist-packages/tensorflow/python/eager/function.py\u001b[0m in \u001b[0;36m_call_flat\u001b[0;34m(self, args, captured_inputs, cancellation_manager)\u001b[0m\n\u001b[1;32m   1963\u001b[0m       return self._build_call_outputs(self._inference_function.call(\n\u001b[1;32m   1964\u001b[0m           ctx, args, cancellation_manager=cancellation_manager))\n\u001b[0;32m-> 1965\u001b[0;31m     forward_backward = self._select_forward_and_backward_functions(\n\u001b[0m\u001b[1;32m   1966\u001b[0m         \u001b[0margs\u001b[0m\u001b[0;34m,\u001b[0m\u001b[0;34m\u001b[0m\u001b[0;34m\u001b[0m\u001b[0m\n\u001b[1;32m   1967\u001b[0m         \u001b[0mpossible_gradient_type\u001b[0m\u001b[0;34m,\u001b[0m\u001b[0;34m\u001b[0m\u001b[0;34m\u001b[0m\u001b[0m\n",
      "\u001b[0;32m/usr/local/lib/python3.8/dist-packages/tensorflow/python/eager/function.py\u001b[0m in \u001b[0;36m_select_forward_and_backward_functions\u001b[0;34m(self, args, possible_gradient_type, executing_eagerly)\u001b[0m\n\u001b[1;32m   2154\u001b[0m               need_gradients_for_jvps=need_gradients_for_jvps)\n\u001b[1;32m   2155\u001b[0m           \u001b[0mself\u001b[0m\u001b[0;34m.\u001b[0m\u001b[0m_first_order_tape_functions\u001b[0m\u001b[0;34m[\u001b[0m\u001b[0mcache_key\u001b[0m\u001b[0;34m]\u001b[0m \u001b[0;34m=\u001b[0m \u001b[0mfunctions\u001b[0m\u001b[0;34m\u001b[0m\u001b[0;34m\u001b[0m\u001b[0m\n\u001b[0;32m-> 2156\u001b[0;31m         return _ForwardBackwardCall(\n\u001b[0m\u001b[1;32m   2157\u001b[0m             functions, args, input_tangents.tangents, tape_watching=True)\n\u001b[1;32m   2158\u001b[0m       \u001b[0;32melse\u001b[0m\u001b[0;34m:\u001b[0m\u001b[0;34m\u001b[0m\u001b[0;34m\u001b[0m\u001b[0m\n",
      "\u001b[0;32m/usr/local/lib/python3.8/dist-packages/tensorflow/python/eager/function.py\u001b[0m in \u001b[0;36m__init__\u001b[0;34m(self, functions, inference_args, input_tangents, tape_watching)\u001b[0m\n\u001b[1;32m   1473\u001b[0m   ]\n\u001b[1;32m   1474\u001b[0m \u001b[0;34m\u001b[0m\u001b[0m\n\u001b[0;32m-> 1475\u001b[0;31m   \u001b[0;32mdef\u001b[0m \u001b[0m__init__\u001b[0m\u001b[0;34m(\u001b[0m\u001b[0mself\u001b[0m\u001b[0;34m,\u001b[0m \u001b[0mfunctions\u001b[0m\u001b[0;34m,\u001b[0m \u001b[0minference_args\u001b[0m\u001b[0;34m,\u001b[0m \u001b[0minput_tangents\u001b[0m\u001b[0;34m,\u001b[0m \u001b[0mtape_watching\u001b[0m\u001b[0;34m)\u001b[0m\u001b[0;34m:\u001b[0m\u001b[0;34m\u001b[0m\u001b[0;34m\u001b[0m\u001b[0m\n\u001b[0m\u001b[1;32m   1476\u001b[0m     \"\"\"Collects information about the function call.\n\u001b[1;32m   1477\u001b[0m \u001b[0;34m\u001b[0m\u001b[0m\n",
      "\u001b[0;31mKeyboardInterrupt\u001b[0m: "
     ]
    }
   ],
   "source": [
    "# Test code for testing autoencoder\n",
    "\n",
    "# This code is helper code to plot the mnist digits so you\n",
    "# can see your autoencoder in action!\n",
    "import matplotlib.pyplot as plt\n",
    "%matplotlib inline\n",
    "\n",
    "n_examples = 10\n",
    "batch_size = 100\n",
    "n_epochs = 5\n",
    "\n",
    "mnist = tf.keras.datasets.mnist\n",
    "\n",
    "(train_images, _), (test_images, _) = mnist.load_data()\n",
    "test_images = test_images / 255\n",
    "example_images = test_images[:n_examples]\n",
    "train_images = train_images / 255\n",
    "\n",
    "\"\"\"Test the convolutional autoencder using MNIST.\"\"\"\n",
    "\n",
    "\n",
    "def showImages(model, noise_function):\n",
    "\n",
    "    corrupted = tf.reshape(noise_function(example_images), [-1, 28, 28, 1])\n",
    "    recon = model(corrupted)\n",
    "\n",
    "    fig, axs = plt.subplots(2, n_examples, figsize=(10, 2))\n",
    "    for example_i in range(n_examples):\n",
    "        axs[0][example_i].imshow(\n",
    "            np.reshape(\n",
    "                np.reshape(corrupted[example_i, ...], (784,)),\n",
    "                (28, 28)))\n",
    "        axs[1][example_i].imshow(\n",
    "            np.reshape(\n",
    "                np.reshape(recon[example_i, ...], (784,)),\n",
    "                (28, 28)))\n",
    "    plt.show()\n",
    "\n",
    "\n",
    "# Runs the autoencoder\n",
    "# Run for each noise function\n",
    "for noise_function in [Noise.no_noise, Noise.random_scale, Noise.random_noise]:\n",
    "    print(\"Showing autoencoder for noise function: {0}\".format(noise_function))\n",
    "    model = AutoEncoder()\n",
    "    optimizer = tf.keras.optimizers.Adam(learning_rate=0.01)\n",
    "\n",
    "    for i in range(n_epochs):\n",
    "        for j in range(0, len(train_images), batch_size):\n",
    "            model.train(\n",
    "                optimizer, train_images[j:j+batch_size], noise_function)\n",
    "\n",
    "        print(\"Epoch: \", i)\n",
    "        sum_loss = model.total_loss(test_images, noise_function)\n",
    "        print(\"Total Loss: {0}\".format(sum_loss))\n",
    "        showImages(model, noise_function)"
   ]
  },
  {
   "cell_type": "markdown",
   "metadata": {
    "id": "2sBNgo9Ze0fy"
   },
   "source": [
    "## Checkpoint! \n",
    "\n",
    "Check to see if your denoiser works! If it works, you should see the autoencoder images remove noise from the original inputs. The top row for each epoch is the input image and the bottom is the autoencoded image. \n",
    "\n",
    "Check out how the different noise functions are handled by the autoencoder."
   ]
  },
  {
   "cell_type": "markdown",
   "metadata": {
    "id": "m6dyRrpWe0fz"
   },
   "source": [
    "## Visualizing the Data Representation\n",
    "\n",
    "We can now visualize where MNIST data points are positioned in the lower dimensional vector space created by the autoencoder (this is similar to the visualization in lecture). Run the following cell to view a 2 dimensional projection of this vector space, where each color represents a different MNIST digit. Notice how even though the dimensionality of this space is much lower than the original (160 vs 784), relevant information about the digits is preserved."
   ]
  },
  {
   "cell_type": "code",
   "execution_count": null,
   "metadata": {
    "colab": {
     "base_uri": "https://localhost:8080/",
     "height": 269
    },
    "executionInfo": {
     "elapsed": 8951,
     "status": "ok",
     "timestamp": 1567021002888,
     "user": {
      "displayName": "Joshua Levin",
      "photoUrl": "",
      "userId": "05119324311157432337"
     },
     "user_tz": 240
    },
    "id": "38fq9fAVq7eK",
    "outputId": "e36bedeb-a895-4dba-b2ca-2a5fee68b9aa",
    "scrolled": true
   },
   "outputs": [],
   "source": [
    "from sklearn.manifold import TSNE\n",
    "\n",
    "NUM_SAMPLES = 1000\n",
    "\n",
    "(_, _),(t_images,t_labels) = mnist.load_data()\n",
    "t_images = t_images[:NUM_SAMPLES]\n",
    "t_labels = t_labels[:NUM_SAMPLES]\n",
    "t_images = t_images / 255\n",
    "\n",
    "z = model.encoder(tf.reshape(random_noise(t_images), [-1, 28, 28, 1]))\n",
    "z = np.reshape(z, [NUM_SAMPLES, -1])\n",
    "\n",
    "tsne = TSNE(n_components=2)\n",
    "transformed = tsne.fit_transform(z)\n",
    "colors = t_labels\n",
    "plt.scatter(transformed[:, 0], transformed[:, 1], c=colors)\n",
    "plt.colorbar()\n",
    "plt.show()"
   ]
  },
  {
   "cell_type": "markdown",
   "metadata": {
    "id": "MCqmmDV2e0f8"
   },
   "source": [
    "## Part 2"
   ]
  },
  {
   "cell_type": "code",
   "execution_count": 4,
   "metadata": {},
   "outputs": [],
   "source": [
    "import lightkurve as lk\n",
    "import numpy as np\n",
    "import matplotlib.pyplot as plt\n",
    "%matplotlib inline"
   ]
  },
  {
   "cell_type": "code",
   "execution_count": 5,
   "metadata": {},
   "outputs": [
    {
     "name": "stderr",
     "output_type": "stream",
     "text": [
      "5% (913/19337) of the cadences will be ignored due to the quality mask (quality_bitmask=175).\n"
     ]
    }
   ],
   "source": [
    "lk.log.setLevel('INFO')\n",
    "tpf = lk.search_targetpixelfile('HAT-P-11', sector=14, cadence='short').download()"
   ]
  },
  {
   "cell_type": "code",
   "execution_count": 6,
   "metadata": {},
   "outputs": [
    {
     "name": "stdout",
     "output_type": "stream",
     "text": [
      "1683.3560021628925 to 1710.2062137662053\n",
      "(18424, 11, 11)\n"
     ]
    }
   ],
   "source": [
    "#plot some initial data\n",
    "times=tpf.time #astropy_time.iso\n",
    "\n",
    "print(times[0],\"to\",times[-1])\n",
    "print(tpf.flux.shape)\n",
    "# print(\"first frame\")\n",
    "# tpf.plot(frame=0)\n",
    "# print(\"last frame\")\n",
    "# tpf.plot(frame=tpf.flux.shape[0]-1);"
   ]
  },
  {
   "cell_type": "code",
   "execution_count": 4,
   "metadata": {},
   "outputs": [
    {
     "data": {
      "image/png": "[encoded data removed]",
      "text/plain": [
       "<Figure size 848.5x400 with 2 Axes>"
      ]
     },
     "metadata": {},
     "output_type": "display_data"
    }
   ],
   "source": [
    "# Apeture Mask\n",
    "tpf.plot(frame=0, aperture_mask=tpf.pipeline_mask, mask_color='red');"
   ]
  },
  {
   "cell_type": "code",
   "execution_count": 7,
   "metadata": {},
   "outputs": [],
   "source": [
    "from transitleastsquares import transitleastsquares\n",
    "\n",
    "\n",
    "def fit_model(lc):\n",
    "    pg = lc.to_periodogram(method='bls', duration=0.2, minimum_period=1.0)\n",
    "    pg.plot()\n",
    "    lc.fold(pg.period_at_max_power).scatter()\n",
    "    print(pg.period_at_max_power.value)\n",
    "\n",
    "    model = transitleastsquares(lc.time.value, lc.flux.value)\n",
    "    results = model.power(period_min=pg.period_at_max_power.value *\n",
    "                          0.9, period_max=pg.period_at_max_power.value*1.1)\n",
    "    results.CDPP = lc.estimate_cdpp()\n",
    "    return results\n",
    "\n",
    "\n",
    "def plot_results(results):\n",
    "    plt.figure()\n",
    "    ax = plt.gca()\n",
    "    ax.axvline(results.period, alpha=0.4, lw=3)\n",
    "    plt.xlim(np.min(results.periods), np.max(results.periods))\n",
    "    for n in range(2, 10):\n",
    "        ax.axvline(n*results.period, alpha=0.4, lw=1, linestyle=\"dashed\")\n",
    "        ax.axvline(results.period / n, alpha=0.4, lw=1, linestyle=\"dashed\")\n",
    "    plt.ylabel(r'SDE')\n",
    "    plt.xlabel('Period (days)')\n",
    "    plt.plot(results.periods, results.power, color='black', lw=0.5)\n",
    "    plt.xlim(0, max(results.periods))\n",
    "\n",
    "\n",
    "def print_results(results):\n",
    "    print('Period', format(results.period, '.5f'), 'd')\n",
    "    print(len(results.transit_times), 'transit times in time series:',\n",
    "          ['{0:0.5f}'.format(i) for i in results.transit_times])\n",
    "    print('Transit depth', format(results.depth, '.5f'))\n",
    "    print('Transit duration (days)', format(results.duration, '.5f'))\n",
    "    print('SNR', results.snr)\n",
    "    print('chi2', results.chi2_min)\n",
    "    print('CDPP', results.CDPP)\n",
    "\n",
    "\n",
    "def plot_result_fit(results):\n",
    "    plt.figure()\n",
    "    plt.plot(results.model_folded_phase,\n",
    "             results.model_folded_model, color='red')\n",
    "    plt.scatter(results.folded_phase, results.folded_y,\n",
    "                color='blue', s=10, alpha=0.5, zorder=2)\n",
    "    plt.xlabel('Phase')\n",
    "    plt.ylabel('Relative flux')\n",
    "\n",
    "\n",
    "def fit_and_report(lc):\n",
    "    results = fit_model(lc)\n",
    "    print_results(results)\n",
    "    plot_results(results)\n",
    "    plot_result_fit(results)\n"
   ]
  },
  {
   "cell_type": "code",
   "execution_count": null,
   "metadata": {},
   "outputs": [
    {
     "ename": "Error",
     "evalue": "Kernel is dead",
     "output_type": "error",
     "traceback": [
      "Error: Kernel is dead",
      "at g._sendKernelShellControl (/home/sam/.vscode/extensions/ms-toolsai.jupyter-2021.9.1101343141/out/client/extension.js:52:1006305)",
      "at g.sendShellMessage (/home/sam/.vscode/extensions/ms-toolsai.jupyter-2021.9.1101343141/out/client/extension.js:52:1006074)",
      "at g.requestExecute (/home/sam/.vscode/extensions/ms-toolsai.jupyter-2021.9.1101343141/out/client/extension.js:52:1008616)",
      "at d.requestExecute (/home/sam/.vscode/extensions/ms-toolsai.jupyter-2021.9.1101343141/out/client/extension.js:37:328037)",
      "at S.requestExecute (/home/sam/.vscode/extensions/ms-toolsai.jupyter-2021.9.1101343141/out/client/extension.js:32:19306)",
      "at w.executeCodeCell (/home/sam/.vscode/extensions/ms-toolsai.jupyter-2021.9.1101343141/out/client/extension.js:52:300924)",
      "at w.execute (/home/sam/.vscode/extensions/ms-toolsai.jupyter-2021.9.1101343141/out/client/extension.js:52:300551)",
      "at w.start (/home/sam/.vscode/extensions/ms-toolsai.jupyter-2021.9.1101343141/out/client/extension.js:52:296215)",
      "at runMicrotasks (<anonymous>)",
      "at processTicksAndRejections (internal/process/task_queues.js:93:5)",
      "at async t.CellExecutionQueue.executeQueuedCells (/home/sam/.vscode/extensions/ms-toolsai.jupyter-2021.9.1101343141/out/client/extension.js:52:310950)",
      "at async t.CellExecutionQueue.start (/home/sam/.vscode/extensions/ms-toolsai.jupyter-2021.9.1101343141/out/client/extension.js:52:310490)"
     ]
    }
   ],
   "source": [
    "#use the provided aperture mask to generate a light curve\n",
    "lc = tpf.to_lightcurve(aperture_mask=tpf.pipeline_mask);\n",
    "lc.plot();\n",
    "\n",
    "# flatten (detrend) the lightcurve to show relative change using window of 1 day\n",
    "samples_per_day = 1 + 60 * 24 // 2;\n",
    "flat_lc = lc.flatten(samples_per_day);\n",
    "flat_lc.plot();\n",
    "fit_and_report(flat_lc);"
   ]
  },
  {
   "cell_type": "code",
   "execution_count": null,
   "metadata": {},
   "outputs": [
    {
     "ename": "Error",
     "evalue": "Kernel is dead",
     "output_type": "error",
     "traceback": [
      "Error: Kernel is dead",
      "at g._sendKernelShellControl (/home/sam/.vscode/extensions/ms-toolsai.jupyter-2021.9.1101343141/out/client/extension.js:52:1006305)",
      "at g.sendShellMessage (/home/sam/.vscode/extensions/ms-toolsai.jupyter-2021.9.1101343141/out/client/extension.js:52:1006074)",
      "at g.requestExecute (/home/sam/.vscode/extensions/ms-toolsai.jupyter-2021.9.1101343141/out/client/extension.js:52:1008616)",
      "at d.requestExecute (/home/sam/.vscode/extensions/ms-toolsai.jupyter-2021.9.1101343141/out/client/extension.js:37:328037)",
      "at S.requestExecute (/home/sam/.vscode/extensions/ms-toolsai.jupyter-2021.9.1101343141/out/client/extension.js:32:19306)",
      "at w.executeCodeCell (/home/sam/.vscode/extensions/ms-toolsai.jupyter-2021.9.1101343141/out/client/extension.js:52:300924)",
      "at w.execute (/home/sam/.vscode/extensions/ms-toolsai.jupyter-2021.9.1101343141/out/client/extension.js:52:300551)",
      "at w.start (/home/sam/.vscode/extensions/ms-toolsai.jupyter-2021.9.1101343141/out/client/extension.js:52:296215)",
      "at processTicksAndRejections (internal/process/task_queues.js:93:5)",
      "at async t.CellExecutionQueue.executeQueuedCells (/home/sam/.vscode/extensions/ms-toolsai.jupyter-2021.9.1101343141/out/client/extension.js:52:310950)",
      "at async t.CellExecutionQueue.start (/home/sam/.vscode/extensions/ms-toolsai.jupyter-2021.9.1101343141/out/client/extension.js:52:310490)"
     ]
    }
   ],
   "source": [
    "tess_lc = lk.search_lightcurve('HAT-P-11', sector=14, cadence='short').download()\n",
    "tess_lc.plot(column='sap_flux');\n",
    "tess_lc.plot(column='flux');\n",
    "flat_tess_lc = tess_lc.flatten(samples_per_day)\n",
    "flat_tess_lc.plot();\n",
    "fit_and_report(flat_tess_lc)"
   ]
  }
 ],
 "metadata": {
  "accelerator": "GPU",
  "colab": {
   "collapsed_sections": [],
   "name": "project_part_1.ipynb",
   "provenance": []
  },
  "interpreter": {
   "hash": "e7370f93d1d0cde622a1f8e1c04877d8463912d04d973331ad4851f04de6915a"
  },
  "kernelspec": {
   "display_name": "Python 3.8.5 64-bit",
   "name": "python3"
  },
  "language_info": {
   "codemirror_mode": {
    "name": "ipython",
    "version": 3
   },
   "file_extension": ".py",
   "mimetype": "text/x-python",
   "name": "python",
   "nbconvert_exporter": "python",
   "pygments_lexer": "ipython3",
   "version": "3.8.5"
  }
 },
 "nbformat": 4,
 "nbformat_minor": 1
}
