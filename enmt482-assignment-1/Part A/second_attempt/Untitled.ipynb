{
 "cells": [
  {
   "cell_type": "code",
   "execution_count": 1,
   "id": "b9dade42",
   "metadata": {},
   "outputs": [],
   "source": [
    "%matplotlib widget\n",
    "from ipywidgets import FloatSlider, Output, interact\n",
    "import matplotlib.pyplot as plt\n",
    "import numpy as np\n"
   ]
  },
  {
   "cell_type": "code",
   "execution_count": 2,
   "id": "d70a3959",
   "metadata": {},
   "outputs": [],
   "source": [
    "filename = 'training1.csv'\n",
    "_, time, distances, velocity_command, ir1_data, ir2_data, ir3_data, ir4_data, sonar1_data, sonar2_data = np.loadtxt(filename, delimiter=',', skiprows=1).T\n",
    "N = len(time)\n",
    "dt = time[1] - time[0]"
   ]
  },
  {
   "cell_type": "code",
   "execution_count": 5,
   "id": "1dd8cb80",
   "metadata": {},
   "outputs": [
    {
     "data": {
      "application/vnd.jupyter.widget-view+json": {
       "model_id": "fb8f6462f14547dfa7cc4e626711c775",
       "version_major": 2,
       "version_minor": 0
      },
      "text/plain": [
       "interactive(children=(FloatSlider(value=0.5, description='a_1', max=1.0, step=0.01), FloatSlider(value=0.3, de…"
      ]
     },
     "metadata": {},
     "output_type": "display_data"
    }
   ],
   "source": [
    "import matplotlib\n",
    "%matplotlib widget\n",
    "@interact(\n",
    "    a_1 = FloatSlider(min=0, max=1, step=0.01, value=0.5),\n",
    "    a_2 = FloatSlider(min=0, max=1, step=0.01, value=0.3),\n",
    "    a_3 = FloatSlider(min=0, max=1, step=0.01, value=0.015),\n",
    "    a_4 = FloatSlider(min=0, max=1, step=0.01, value=1),\n",
    "    b_1 = FloatSlider(min=0.9, max=1.5, step=0.01, value=1.1),\n",
    "    b_2 = FloatSlider(min=0.5, max=1, step=0.01, value=0.7),\n",
    ")\n",
    "def parameters(a_1, a_2, a_3, a_4, b_1, b_2):\n",
    "    def get_alpha(velocity_command: float, last_velocity_command: float, last_predicted_speed: float):\n",
    "        if abs(velocity_command) * b_1 < abs(last_predicted_speed):\n",
    "            return a_1\n",
    "        elif abs(last_predicted_speed / velocity_command) < b_2:\n",
    "            return a_2\n",
    "        else:\n",
    "            return a_3\n",
    "    \n",
    "    fig, axs = plt.subplots()\n",
    "    actual_speeds = np.zeros(N)\n",
    "    for k in range(1, N):\n",
    "        actual_speeds[k] = (distances[k] - distances[k-1]) / dt\n",
    "    kernel = [0.05] * 20\n",
    "    actual_speeds_smooth = np.convolve(actual_speeds, kernel, mode='same')\n",
    "    predicted_speeds = np.zeros(N)\n",
    "    for k in range(1, N):\n",
    "        alpha = get_alpha(velocity_command[k], velocity_command[k-1], predicted_speeds[k-1])\n",
    "        # alpha = 0.015 if abs(velocity_command[i]) > 0.07 and not abs(velocity_command[i] - predicted_speeds[i-1]) > 0.12 else 0.1\n",
    "        predicted_speeds[k] = velocity_command[k] * alpha + (1-alpha) * predicted_speeds[k-1]\n",
    "    axs.plot(time, velocity_command, label='commanded_speed')\n",
    "    axs.plot(time, actual_speeds, '.', alpha=0.2, label='actual_speed')\n",
    "    axs.plot(time, actual_speeds_smooth, label='actual_speed_smooth')\n",
    "    axs.plot(time, predicted_speeds, label='predicted_speed')\n",
    "#     axs.set_xlabel('Time (t)')\n",
    "#     axs.set_ylabel('Speed (m/s)')\n",
    "#     axs.set_title('Predicting the speed with a recurrsive filter')\n",
    "#     axs.legend()\n",
    "#     plt.show()"
   ]
  },
  {
   "cell_type": "code",
   "execution_count": 5,
   "id": "ae5b40a6",
   "metadata": {},
   "outputs": [
    {
     "data": {
      "application/vnd.jupyter.widget-view+json": {
       "model_id": "5ab6d9a3527449339f00e2311460167c",
       "version_major": 2,
       "version_minor": 0
      },
      "text/plain": [
       "interactive(children=(Checkbox(value=True, description='x'), FloatSlider(value=1.0, description='y', max=3.0, …"
      ]
     },
     "metadata": {},
     "output_type": "display_data"
    }
   ],
   "source": [
    "@interact(x=True, y=1.0)\n",
    "def g(x, y):\n",
    "    return (x, y)"
   ]
  },
  {
   "cell_type": "code",
   "execution_count": 9,
   "id": "f57b4176",
   "metadata": {},
   "outputs": [
    {
     "data": {
      "application/vnd.jupyter.widget-view+json": {
       "model_id": "e87b769cb16a46c8b68b9acaaeb3b5d6",
       "version_major": 2,
       "version_minor": 0
      },
      "text/plain": [
       "Canvas(toolbar=Toolbar(toolitems=[('Home', 'Reset original view', 'home', 'home'), ('Back', 'Back to previous …"
      ]
     },
     "metadata": {},
     "output_type": "display_data"
    },
    {
     "data": {
      "application/vnd.jupyter.widget-view+json": {
       "model_id": "39de39d008b4431aa224ae16a7da22f1",
       "version_major": 2,
       "version_minor": 0
      },
      "text/plain": [
       "interactive(children=(IntSlider(value=1, description='w', max=10), FloatSlider(value=1.0, description='amp', m…"
      ]
     },
     "metadata": {},
     "output_type": "display_data"
    }
   ],
   "source": [
    "# set up plot\n",
    "fig, ax = plt.subplots(figsize=(6, 4))\n",
    "ax.set_ylim([-4, 4])\n",
    "ax.grid(True)\n",
    " \n",
    "# generate x values\n",
    "x = np.linspace(0, 2 * np.pi, 100)\n",
    " \n",
    " \n",
    "def my_sine(x, w, amp, phi):\n",
    "    \"\"\"\n",
    "    Return a sine for x with angular frequeny w and amplitude amp.\n",
    "    \"\"\"\n",
    "    return amp*np.sin(w * (x-phi))\n",
    " \n",
    " \n",
    "@interact(w=(0, 10, 1), amp=(0, 4, .1), phi=(0, 2*np.pi+0.01, 0.01))\n",
    "def update(w = 1.0, amp=1, phi=0):\n",
    "    \"\"\"Remove old lines from plot and plot new one\"\"\"\n",
    "    [l.remove() for l in ax.lines]\n",
    "    ax.plot(x, my_sine(x, w, amp, phi), color='C0')"
   ]
  },
  {
   "cell_type": "code",
   "execution_count": null,
   "id": "c6167a9c",
   "metadata": {},
   "outputs": [],
   "source": []
  }
 ],
 "metadata": {
  "kernelspec": {
   "display_name": "Python 3 (ipykernel)",
   "language": "python",
   "name": "python3"
  },
  "language_info": {
   "codemirror_mode": {
    "name": "ipython",
    "version": 3
   },
   "file_extension": ".py",
   "mimetype": "text/x-python",
   "name": "python",
   "nbconvert_exporter": "python",
   "pygments_lexer": "ipython3",
   "version": "3.8.5"
  }
 },
 "nbformat": 4,
 "nbformat_minor": 5
}
